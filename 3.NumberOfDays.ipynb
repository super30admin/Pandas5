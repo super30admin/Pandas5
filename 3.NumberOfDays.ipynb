{
 "cells": [
  {
   "cell_type": "code",
   "execution_count": 19,
   "metadata": {},
   "outputs": [
    {
     "name": "stdout",
     "output_type": "stream",
     "text": [
      "74 days\n"
     ]
    }
   ],
   "source": [
    "#Method-1:A Better and Simple solution is to count the total number of days before dt1 from i.e.,\n",
    "# total days from 00/00/0000 to dt1, then count the total number of days before dt2.\n",
    "# Finally, return the difference between the two counts.  \n",
    "\n",
    "class Date:\n",
    "    def __init__(self,d,m,y):\n",
    "        self.d=d\n",
    "        self.m=m\n",
    "        self.y=y\n",
    "\n",
    "monthDays=[31,28,31,30,31,30,31,31,30,31,30,31]\n",
    "def countLeapYears(d):\n",
    "    years=d.y\n",
    "    if(d.m<=2):\n",
    "        years -=1\n",
    "    return int(years/4)-int(years/100)+int(years/400)\n",
    "    \n",
    "def getDifference(dt1,dt2):\n",
    "    n1=dt1.y *365 +dt1.d\n",
    "    for i in range(0,dt1.m-1):\n",
    "        n1 +=monthDays[i]\n",
    "    n1 +=countLeapYears(dt1)\n",
    "\n",
    "    n2=dt2.y *365 +dt2.d\n",
    "    for i in range(0,dt2.m-1):\n",
    "        n2 +=monthDays[i]\n",
    "    n2 +=countLeapYears(dt2)\n",
    "    return (n2-n1)\n",
    "\n",
    "dt1=Date(13,12,2018)\n",
    "dt2=Date(25,2,2019)\n",
    "\n",
    "print(getDifference(dt1,dt2),\"days\")\n"
   ]
  },
  {
   "cell_type": "code",
   "execution_count": 18,
   "metadata": {},
   "outputs": [
    {
     "name": "stdout",
     "output_type": "stream",
     "text": [
      "74 days\n"
     ]
    }
   ],
   "source": [
    "#2. Using In-built date time module\n",
    "\n",
    "from datetime import date\n",
    "def numOfDays(date1, date2):\n",
    "    if date2 > date1:\n",
    "        return (date2 - date1).days\n",
    "    else:\n",
    "        return (date1 - date2).days\n",
    "\n",
    "date1 = date(2018, 12, 13)\n",
    "date2 = date(2019, 2, 25)\n",
    "\n",
    "print(numOfDays(date1, date2), \"days\")\n"
   ]
  },
  {
   "cell_type": "code",
   "execution_count": 7,
   "metadata": {},
   "outputs": [
    {
     "name": "stdout",
     "output_type": "stream",
     "text": [
      "2 months 12 days\n"
     ]
    }
   ],
   "source": [
    "#3. Using dateutil library\n",
    "from dateutil import relativedelta\n",
    "from datetime import datetime\n",
    "\n",
    "date1=datetime.strptime(\"13/10/2018\", \"%d/%m/%Y\")\n",
    "date2=datetime.strptime(\"25/12/2018\", \"%d/%m/%Y\")\n",
    "\n",
    "difference=relativedelta.relativedelta(date2,date1)\n",
    "\n",
    "print(difference.months,\"months\",difference.days,'days')\n"
   ]
  },
  {
   "cell_type": "code",
   "execution_count": 9,
   "metadata": {},
   "outputs": [
    {
     "name": "stdout",
     "output_type": "stream",
     "text": [
      "74\n"
     ]
    }
   ],
   "source": [
    "#4. Using Time module\n",
    "\n",
    "import time\n",
    "\n",
    "def days_between_dates(dt1,dt2):\n",
    "    date_format='%d/%m/%Y'\n",
    "    a=time.mktime(time.strptime(dt1,date_format))\n",
    "    b=time.mktime(time.strptime(dt2,date_format))\n",
    "    delta=b-a\n",
    "    return int(delta/86400)\n",
    "\n",
    "dt1=\"13/12/2018\"\n",
    "dt2=\"25/2/2019\"\n",
    "\n",
    "print(days_between_dates(dt1,dt2))"
   ]
  },
  {
   "cell_type": "code",
   "execution_count": 11,
   "metadata": {},
   "outputs": [
    {
     "name": "stdout",
     "output_type": "stream",
     "text": [
      "74 days\n"
     ]
    }
   ],
   "source": [
    "#5. Using reduce from functools\n",
    "from datetime import date\n",
    "from functools import reduce\n",
    "\n",
    "def numOfDays(date1,date2):\n",
    "    return reduce(lambda x, y :(y-x).days,[date1,date2])\n",
    "date1=date(2018,12,13)\n",
    "date2=date(2019,2,25)\n",
    "\n",
    "print(numOfDays(date1,date2), \"days\")"
   ]
  },
  {
   "cell_type": "code",
   "execution_count": null,
   "metadata": {},
   "outputs": [],
   "source": []
  }
 ],
 "metadata": {
  "kernelspec": {
   "display_name": "base",
   "language": "python",
   "name": "python3"
  },
  "language_info": {
   "codemirror_mode": {
    "name": "ipython",
    "version": 3
   },
   "file_extension": ".py",
   "mimetype": "text/x-python",
   "name": "python",
   "nbconvert_exporter": "python",
   "pygments_lexer": "ipython3",
   "version": "3.9.12"
  },
  "orig_nbformat": 4
 },
 "nbformat": 4,
 "nbformat_minor": 2
}
