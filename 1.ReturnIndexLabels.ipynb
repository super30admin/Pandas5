{
 "cells": [
  {
   "cell_type": "code",
   "execution_count": 1,
   "metadata": {},
   "outputs": [
    {
     "name": "stdout",
     "output_type": "stream",
     "text": [
      "             Date    Product  Last_Price  Updated_Price  Discount\n",
      "Item 1  10/2/2011   Umbrella        1200           1250        10\n",
      "Item 2  11/2/2011   Mattress        1500           1450        10\n",
      "Item 3  12/2/2011  Badminton        1600           1550        10\n",
      "Item 4  13/2/2011    Shuttle         352            400        10\n"
     ]
    }
   ],
   "source": [
    "#1: We can use simple indexing operation to select all those values in the column which satisfies the given condition. \n",
    "import pandas as pd\n",
    "df = pd.DataFrame({'Date':['10/2/2011', '11/2/2011', '12/2/2011', '13/2/2011'],\n",
    "\t\t\t\t'Product':['Umbrella', 'Mattress', 'Badminton', 'Shuttle'],\n",
    "\t\t\t\t'Last_Price':[1200, 1500, 1600, 352],\n",
    "\t\t\t\t'Updated_Price':[1250, 1450, 1550, 400],\n",
    "\t\t\t\t'Discount':[10, 10, 10, 10]})\n",
    "df.index =['Item 1', 'Item 2', 'Item 3', 'Item 4']\n",
    "print(df)\n"
   ]
  },
  {
   "cell_type": "code",
   "execution_count": 2,
   "metadata": {},
   "outputs": [
    {
     "name": "stdout",
     "output_type": "stream",
     "text": [
      "['Item 1', 'Item 2', 'Item 3']\n"
     ]
    }
   ],
   "source": [
    "Index_label=df[df['Updated_Price']>1000].index.to_list()\n",
    "print(Index_label)"
   ]
  },
  {
   "cell_type": "code",
   "execution_count": 3,
   "metadata": {},
   "outputs": [
    {
     "name": "stdout",
     "output_type": "stream",
     "text": [
      "<bound method IndexOpsMixin.tolist of Index(['Item 1', 'Item 2', 'Item 3'], dtype='object')>\n"
     ]
    }
   ],
   "source": [
    "#2: We can use Pandas Dataframe.query() function\n",
    "# to select all the rows which satisfies some condition over a given column. \n",
    "\n",
    "Index_label=df.query('Updated_Price>1000').index.tolist\n",
    "print(Index_label)\n",
    "\n"
   ]
  },
  {
   "cell_type": "code",
   "execution_count": null,
   "metadata": {},
   "outputs": [],
   "source": []
  }
 ],
 "metadata": {
  "kernelspec": {
   "display_name": "base",
   "language": "python",
   "name": "python3"
  },
  "language_info": {
   "codemirror_mode": {
    "name": "ipython",
    "version": 3
   },
   "file_extension": ".py",
   "mimetype": "text/x-python",
   "name": "python",
   "nbconvert_exporter": "python",
   "pygments_lexer": "ipython3",
   "version": "3.9.12"
  },
  "orig_nbformat": 4
 },
 "nbformat": 4,
 "nbformat_minor": 2
}
