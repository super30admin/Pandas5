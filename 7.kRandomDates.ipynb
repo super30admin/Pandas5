{
 "cells": [
  {
   "cell_type": "code",
   "execution_count": 2,
   "metadata": {},
   "outputs": [
    {
     "name": "stdout",
     "output_type": "stream",
     "text": [
      "The original range : 2015-06-03 2015-07-01\n",
      "K random dates in range : [datetime.date(2015, 6, 23), datetime.date(2015, 6, 10), datetime.date(2015, 6, 22), datetime.date(2015, 6, 3), datetime.date(2015, 6, 17), datetime.date(2015, 6, 7), datetime.date(2015, 6, 26)]\n"
     ]
    }
   ],
   "source": [
    "#Method 1 : Using choices() + loop + timedelta()\n",
    "from datetime import date,timedelta\n",
    "from random import choices\n",
    "\n",
    "test_date1, test_date2 =date(2015,6,3), date(2015,7,1)\n",
    "\n",
    "print(\"The original range : \" + str(test_date1) + \" \" + str(test_date2))\n",
    "k=7\n",
    "res_dates=[test_date1]\n",
    "while test_date1 !=test_date2:\n",
    "    test_date1 +=timedelta(days=1)\n",
    "    res_dates.append(test_date1)\n",
    "res =choices(res_dates,k=k)\n",
    "print(\"K random dates in range : \" + str(res))"
   ]
  },
  {
   "cell_type": "code",
   "execution_count": 4,
   "metadata": {},
   "outputs": [
    {
     "name": "stdout",
     "output_type": "stream",
     "text": [
      "The original range : 2015-06-03 2015-07-01\n",
      "K random dates in range : [datetime.date(2015, 6, 3), datetime.date(2015, 6, 23), datetime.date(2015, 6, 11), datetime.date(2015, 6, 13), datetime.date(2015, 6, 23), datetime.date(2015, 6, 18), datetime.date(2015, 6, 23)]\n"
     ]
    }
   ],
   "source": [
    "#Method 2 : Using randrange() + timedelta() + loop\n",
    "\n",
    "from datetime import date,timedelta\n",
    "import random\n",
    "\n",
    "test_date1, test_date2 =date(2015,6,3), date(2015,7,1)\n",
    "print(\"The original range : \" + str(test_date1) + \" \" + str(test_date2))\n",
    "k=7\n",
    "\n",
    "dates_bet=test_date2-test_date1\n",
    "total_days=dates_bet.days\n",
    "\n",
    "res=[]\n",
    "for idx in range(k):\n",
    "    random.seed(a=None)\n",
    "    randay = random.randrange(total_days)\n",
    "    res.append(test_date1+ timedelta(days=randay))\n",
    "\n",
    "print(\"K random dates in range : \" + str(res))\n",
    "\n"
   ]
  },
  {
   "cell_type": "code",
   "execution_count": 5,
   "metadata": {},
   "outputs": [
    {
     "name": "stdout",
     "output_type": "stream",
     "text": [
      "The original range : 2015-06-03 2015-07-01\n",
      "K random dates in range : [datetime.date(2015, 6, 15), datetime.date(2015, 6, 19), datetime.date(2015, 6, 6), datetime.date(2015, 6, 29), datetime.date(2015, 6, 17), datetime.date(2015, 6, 24), datetime.date(2015, 6, 3)]\n"
     ]
    }
   ],
   "source": [
    "#Method #3: Using numpy.random.choice() + timedelta()\n",
    "from datetime import date,timedelta\n",
    "import numpy as np\n",
    "\n",
    "test_date1, test_date2 =date(2015,6,3), date(2015,7,1)\n",
    "print(\"The original range : \" + str(test_date1) + \" \" + str(test_date2))\n",
    "k=7\n",
    "\n",
    "dates_bet=test_date2-test_date1\n",
    "total_days=dates_bet.days\n",
    "\n",
    "randays = np.random.choice(total_days, k, replace=False)\n",
    "res = [test_date1 + timedelta(days=int(day)) for day in randays]\n",
    "print(\"K random dates in range : \" + str(res))\n",
    "\n"
   ]
  },
  {
   "cell_type": "code",
   "execution_count": null,
   "metadata": {},
   "outputs": [],
   "source": []
  }
 ],
 "metadata": {
  "kernelspec": {
   "display_name": "base",
   "language": "python",
   "name": "python3"
  },
  "language_info": {
   "codemirror_mode": {
    "name": "ipython",
    "version": 3
   },
   "file_extension": ".py",
   "mimetype": "text/x-python",
   "name": "python",
   "nbconvert_exporter": "python",
   "pygments_lexer": "ipython3",
   "version": "3.9.12"
  },
  "orig_nbformat": 4
 },
 "nbformat": 4,
 "nbformat_minor": 2
}
