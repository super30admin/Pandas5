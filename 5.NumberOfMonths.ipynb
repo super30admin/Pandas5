{
 "cells": [
  {
   "cell_type": "code",
   "execution_count": 1,
   "metadata": {},
   "outputs": [
    {
     "name": "stdout",
     "output_type": "stream",
     "text": [
      "      dates1     dates2  nb_months\n",
      "0 2000-10-19 1998-06-20         27\n",
      "1 2021-01-08 2012-10-18         98\n"
     ]
    }
   ],
   "source": [
    "#Method 1: difference between Months\n",
    "import pandas as pd\n",
    "import numpy as np\n",
    "import datetime\n",
    "\n",
    "df = pd.DataFrame({'dates1': np.array(\n",
    "[datetime.datetime(2000, 10, 19), datetime.datetime(2021, 1, 8)]),\n",
    "\t\t\t\t'dates2': np.array(\n",
    "\t\t\t\t\t[datetime.datetime(1998, 6, 20),\n",
    "\t\t\t\t\tdatetime.datetime(2012, 10, 18)])})\n",
    "\n",
    "df['nb_months'] = ((df.dates1 - df.dates2)/np.timedelta64(1, 'M'))\n",
    "df['nb_months'] = df['nb_months'].astype(int)\n",
    "print(df)\n"
   ]
  },
  {
   "cell_type": "code",
   "execution_count": 4,
   "metadata": {},
   "outputs": [
    {
     "name": "stdout",
     "output_type": "stream",
     "text": [
      "      dates1     dates2  Number_of_days\n",
      "0 2000-10-19 1998-06-20             852\n",
      "1 2021-01-08 2012-10-18            3004\n"
     ]
    }
   ],
   "source": [
    "#Method 2:difference between Days\n",
    "import pandas as pd\n",
    "import numpy as np\n",
    "import datetime\n",
    "\n",
    "\n",
    "df = pd.DataFrame({'dates1': np.array(\n",
    "[datetime.datetime(2000, 10, 19), datetime.datetime(2021, 1, 8)]),\n",
    "\t\t\t\t'dates2': np.array(\n",
    "\t\t\t\t\t[datetime.datetime(1998, 6, 20),\n",
    "\t\t\t\t\tdatetime.datetime(2012, 10, 18)])})\n",
    "\n",
    "df['Number_of_days'] = ((df.dates1 - df.dates2)/np.timedelta64(1, 'D'))\n",
    "df['Number_of_days'] = df['Number_of_days'].astype(int)\n",
    "print(df)\n"
   ]
  },
  {
   "cell_type": "code",
   "execution_count": 5,
   "metadata": {},
   "outputs": [
    {
     "name": "stdout",
     "output_type": "stream",
     "text": [
      "      dates1     dates2  Number_of_weeks\n",
      "0 2000-10-19 1998-06-20              121\n",
      "1 2021-01-08 2012-10-18              429\n"
     ]
    }
   ],
   "source": [
    "#Method 3:difference between weeks\n",
    "import pandas as pd\n",
    "import numpy as np\n",
    "import datetime\n",
    "\n",
    "\n",
    "df= pd.DataFrame({'dates1': np.array(\n",
    "[datetime.datetime(2000, 10, 19), datetime.datetime(2021, 1, 8)]),\n",
    "\t\t\t\t'dates2': np.array(\n",
    "\t\t\t\t\t[datetime.datetime(1998, 6, 20),\n",
    "\t\t\t\t\tdatetime.datetime(2012, 10, 18)] )})\n",
    "\n",
    "df['Number_of_weeks'] = ((df.dates1 - df.dates2)/np.timedelta64(1, 'W'))\n",
    "df['Number_of_weeks'] = df['Number_of_weeks'].astype(int)\n",
    "print(df)\n"
   ]
  },
  {
   "cell_type": "code",
   "execution_count": 6,
   "metadata": {},
   "outputs": [
    {
     "name": "stdout",
     "output_type": "stream",
     "text": [
      "      dates1     dates2  Number_of_years\n",
      "0 2000-10-19 1998-06-20                2\n",
      "1 2021-01-08 2012-10-18                8\n"
     ]
    }
   ],
   "source": [
    "#Method 4: difference between Years\n",
    "import pandas as pd\n",
    "import numpy as np\n",
    "import datetime\n",
    "\n",
    "\n",
    "df = pd.DataFrame({'dates1': np.array(\n",
    "[datetime.datetime(2000, 10, 19), datetime.datetime(2021, 1, 8)]),\n",
    "\t\t\t\t'dates2': np.array(\n",
    "\t\t\t\t\t[datetime.datetime(1998, 6, 20),\n",
    "\t\t\t\t\tdatetime.datetime(2012, 10, 18)])})\n",
    "\n",
    "df['Number_of_years'] = ((df.dates1 - df.dates2)/np.timedelta64(1, 'Y'))\n",
    "df['Number_of_years'] = df['Number_of_years'].astype(int)\n",
    "print(df)\n"
   ]
  },
  {
   "cell_type": "code",
   "execution_count": null,
   "metadata": {},
   "outputs": [],
   "source": []
  }
 ],
 "metadata": {
  "kernelspec": {
   "display_name": "base",
   "language": "python",
   "name": "python3"
  },
  "language_info": {
   "codemirror_mode": {
    "name": "ipython",
    "version": 3
   },
   "file_extension": ".py",
   "mimetype": "text/x-python",
   "name": "python",
   "nbconvert_exporter": "python",
   "pygments_lexer": "ipython3",
   "version": "3.9.12"
  },
  "orig_nbformat": 4
 },
 "nbformat": 4,
 "nbformat_minor": 2
}
