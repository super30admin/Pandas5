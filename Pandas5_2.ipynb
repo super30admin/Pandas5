{
  "nbformat": 4,
  "nbformat_minor": 0,
  "metadata": {
    "colab": {
      "provenance": []
    },
    "kernelspec": {
      "name": "python3",
      "display_name": "Python 3"
    },
    "language_info": {
      "name": "python"
    }
  },
  "cells": [
    {
      "cell_type": "code",
      "execution_count": null,
      "metadata": {
        "id": "N_r889SsMk00"
      },
      "outputs": [],
      "source": [
        "import pandas as pd\n",
        "\n",
        "def order_scores(scores: pd.DataFrame) -> pd.DataFrame:\n",
        "    scores['rank'] = scores.sort_values(by = 'score', ascending = False)['score'].rank(ascending = False, method = 'dense')\n",
        "    return scores.sort_values(by = 'rank')[['score', 'rank']]"
      ]
    }
  ]
}