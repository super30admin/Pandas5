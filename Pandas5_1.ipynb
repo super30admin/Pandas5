{
  "nbformat": 4,
  "nbformat_minor": 0,
  "metadata": {
    "colab": {
      "provenance": []
    },
    "kernelspec": {
      "name": "python3",
      "display_name": "Python 3"
    },
    "language_info": {
      "name": "python"
    }
  },
  "cells": [
    {
      "cell_type": "code",
      "execution_count": null,
      "metadata": {
        "id": "N_r889SsMk00"
      },
      "outputs": [],
      "source": [
        "import pandas as pd\n",
        "\n",
        "def department_highest_salary(employee: pd.DataFrame, department: pd.DataFrame) -> pd.DataFrame:\n",
        "\n",
        "# APPROACH 1\n",
        "    df = employee.merge(department, left_on = 'departmentId', right_on = 'id', how = 'left').groupby('departmentId')[['salary', 'departmentId', 'name_y']].max().rename(columns = {'departmentId' : 'id'})\n",
        "    df = df.merge(employee, left_on = 'id', right_on = 'departmentId', how = 'left')\n",
        "    df = df[df['salary_x'] == df['salary_y']][['name_y', 'name', 'salary_x']].rename(columns = {'name_y' : 'Department', 'name' : 'Employee', 'salary_x' : 'Salary'})\n",
        "    return df\n",
        "\n",
        "# APPROACH 2\n",
        "    # return employee.merge(\n",
        "    #     department, left_on='departmentId', right_on='id', suffixes=('_employee', '_department')\n",
        "    # ).groupby(\n",
        "    #     'departmentId'\n",
        "    # ).apply(\n",
        "    #     lambda x: x[x['salary'] == x['salary'].max()]\n",
        "    # ).reset_index(drop=True)[\n",
        "    #     ['name_department', 'name_employee', 'salary']\n",
        "    # ].rename(columns={\n",
        "    #     'name_department': 'Department',\n",
        "    #     'name_employee': 'Employee',\n",
        "    #     'salary': 'Salary',\n",
        "    # })"
      ]
    }
  ]
}