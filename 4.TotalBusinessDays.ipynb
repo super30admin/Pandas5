{
 "cells": [
  {
   "cell_type": "code",
   "execution_count": 3,
   "metadata": {},
   "outputs": [
    {
     "name": "stdout",
     "output_type": "stream",
     "text": [
      "The original range : 2015-06-03 00:00:00 2015-07-01 00:00:00\n",
      "Total business days in range : 20\n"
     ]
    }
   ],
   "source": [
    "#Method 1: Using timedelta() + sum() + weekday()\n",
    "\n",
    "from datetime import datetime, timedelta\n",
    "\n",
    "test_date1,test_date2=datetime(2015,6,3),datetime(2015,7,1)\n",
    "\n",
    "print(\"The original range : \" + str(test_date1) + \" \" + str(test_date2))\n",
    "dates=(test_date1 + timedelta(idx +1) for idx in range((test_date2 - test_date1).days))\n",
    "res=sum(1 for day in dates if day.weekday()<5)\n",
    "print(\"Total business days in range : \" + str(res))\n"
   ]
  },
  {
   "cell_type": "code",
   "execution_count": 4,
   "metadata": {},
   "outputs": [
    {
     "name": "stdout",
     "output_type": "stream",
     "text": [
      "The original range : 2015-06-03 00:00:00 2015-07-01 00:00:00\n",
      "Total business days in range : 20\n"
     ]
    }
   ],
   "source": [
    "#Method 2 : Using np.busday_count()\n",
    "from datetime import datetime,timedelta\n",
    "import numpy as np\n",
    "\n",
    "test_date1,test_date2=datetime(2015,6,3),datetime(2015,7,1)\n",
    "print(\"The original range : \" + str(test_date1) + \" \" + str(test_date2))\n",
    "res=np.busday_count(test_date1.strftime('%Y-%m-%d'),\n",
    "                      test_date2.strftime('%Y-%m-%d'))\n",
    "\n",
    "print(\"Total business days in range : \" + str(res))"
   ]
  },
  {
   "cell_type": "code",
   "execution_count": 6,
   "metadata": {},
   "outputs": [
    {
     "name": "stdout",
     "output_type": "stream",
     "text": [
      "The original range : 2015-06-03 00:00:00 2015-06-30 00:00:00\n",
      "Total business days in range : 20\n"
     ]
    }
   ],
   "source": [
    "#Method 3 : Using pandas.bdate_range()\n",
    "#Returns total business dates list inclusive of the start and end date. \n",
    "\n",
    "from datetime import datetime,timedelta\n",
    "import pandas as pd\n",
    "\n",
    "test_date1,test_date2=datetime(2015,6,3),datetime(2015,6,30)\n",
    "print(\"The original range : \" + str(test_date1) + \" \" + str(test_date2))\n",
    "\n",
    "res=len(pd.bdate_range(test_date1.strftime('%Y-%m-%d'),\n",
    "                      test_date2.strftime('%Y-%m-%d')))\n",
    "print(\"Total business days in range : \" + str(res))\n"
   ]
  },
  {
   "cell_type": "code",
   "execution_count": 7,
   "metadata": {},
   "outputs": [
    {
     "name": "stdout",
     "output_type": "stream",
     "text": [
      "Total business days in range: 20\n"
     ]
    }
   ],
   "source": [
    "#Method 4: Using a loop and weekday() function\n",
    "\n",
    "from datetime import datetime, timedelta\n",
    "\n",
    "start_date, end_date = datetime(2015, 6, 3), datetime(2015, 6, 30)\n",
    "\n",
    "num_business_days = 0\n",
    "\n",
    "# looping through each day in the date range\n",
    "current_date = start_date\n",
    "while current_date <= end_date:\n",
    "\t# checking if the current day is a weekday\n",
    "\tif current_date.weekday() < 5:\n",
    "\t\tnum_business_days += 1\n",
    "\t# incrementing the current day by one day\n",
    "\tcurrent_date += timedelta(days=1)\n",
    "\n",
    "# printing the result\n",
    "print(\"Total business days in range:\", num_business_days)\n"
   ]
  },
  {
   "cell_type": "code",
   "execution_count": 11,
   "metadata": {},
   "outputs": [
    {
     "name": "stdout",
     "output_type": "stream",
     "text": [
      "Total business days in range: 48\n"
     ]
    }
   ],
   "source": [
    "#Using Numpy\n",
    "import numpy as np\n",
    "from datetime import datetime, timedelta\n",
    "\n",
    "start_date, end_date = datetime(2015, 6, 3), datetime(2015, 6, 30)\n",
    "dates = np.arange(start_date, end_date + timedelta(days=1), dtype='datetime64[D]')\n",
    "weekday_num = np.datetime_as_string(dates, unit='D').astype('datetime64[D]').view('int') % 7\n",
    "num_business_days = np.count_nonzero((weekday_num < 5))\n",
    "print(\"Total business days in range:\", num_business_days)\n"
   ]
  },
  {
   "cell_type": "code",
   "execution_count": null,
   "metadata": {},
   "outputs": [],
   "source": []
  }
 ],
 "metadata": {
  "kernelspec": {
   "display_name": "base",
   "language": "python",
   "name": "python3"
  },
  "language_info": {
   "codemirror_mode": {
    "name": "ipython",
    "version": 3
   },
   "file_extension": ".py",
   "mimetype": "text/x-python",
   "name": "python",
   "nbconvert_exporter": "python",
   "pygments_lexer": "ipython3",
   "version": "3.9.12"
  },
  "orig_nbformat": 4
 },
 "nbformat": 4,
 "nbformat_minor": 2
}
