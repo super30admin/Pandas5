{
 "cells": [
  {
   "cell_type": "code",
   "execution_count": 7,
   "metadata": {},
   "outputs": [
    {
     "name": "stdout",
     "output_type": "stream",
     "text": [
      "  start_date  end_date\n",
      "0   11/11/18  05/08/19\n",
      "1   13/12/18  09/09/19\n",
      "2   19/12/18  15/07/19\n",
      "  start_date   end_date time_delta_months\n",
      "0 2018-11-11 2019-05-08   <6 * MonthEnds>\n",
      "1 2018-12-13 2019-09-09   <9 * MonthEnds>\n",
      "2 2018-12-19 2019-07-15   <7 * MonthEnds>\n"
     ]
    }
   ],
   "source": [
    "#Method 1: Calculate Timedelta Using pandas.Series.dt.to_period() function\n",
    "import pandas as pd \n",
    "data = {\n",
    "    'start_date': ['11/11/18', '13/12/18', '19/12/18'],\n",
    "    'end_date': ['05/08/19', '09/09/19', '15/07/19']\n",
    "}\n",
    "df=pd.DataFrame(data)\n",
    "print(df)\n",
    "\n",
    "df['start_date']=pd.to_datetime(df['start_date'])\n",
    "df['end_date']=pd.to_datetime(df['end_date'])\n",
    "\n",
    "df['time_delta_months'] = df['end_date'].dt.to_period('M') - \\\n",
    "    df['start_date'].dt.to_period('M')\n",
    "print(df)\n"
   ]
  },
  {
   "cell_type": "code",
   "execution_count": 8,
   "metadata": {},
   "outputs": [
    {
     "name": "stdout",
     "output_type": "stream",
     "text": [
      "  start_date   end_date  time_delta_months\n",
      "0 2018-11-11 2019-05-08                  6\n",
      "1 2018-12-13 2019-09-09                  9\n",
      "2 2018-12-19 2019-07-15                  7\n"
     ]
    }
   ],
   "source": [
    "#Method 2: Calculate Timedelta using months in integer\n",
    "\n",
    "df['time_delta_months'] = df['end_date'].dt.to_period('M').astype(int) - \\\n",
    "    df['start_date'].dt.to_period('M').astype(int)\n",
    "print(df)\n"
   ]
  },
  {
   "cell_type": "code",
   "execution_count": 9,
   "metadata": {},
   "outputs": [
    {
     "name": "stdout",
     "output_type": "stream",
     "text": [
      "  start_date   end_date  time_delta_months\n",
      "0 2018-11-11 2019-05-08                  6\n",
      "1 2018-12-13 2019-09-09                  9\n",
      "2 2018-12-19 2019-07-15                  7\n"
     ]
    }
   ],
   "source": [
    "#Example 2: Using .view(dtype=’int64′) to convert into integers\n",
    "\n",
    "df['time_delta_months'] = df['end_date'].dt.to_period('M').view(dtype='int64') - \\\n",
    "    df['start_date'].dt.to_period('M').view(dtype='int64')\n",
    "print(df)"
   ]
  },
  {
   "cell_type": "code",
   "execution_count": 10,
   "metadata": {},
   "outputs": [
    {
     "name": "stdout",
     "output_type": "stream",
     "text": [
      "0     6\n",
      "1    12\n",
      "dtype: int64\n"
     ]
    }
   ],
   "source": [
    "#Method 3:  Calculate Timedelta using a user-defined function\n",
    "# import packages and libraries\n",
    "import pandas as pd\n",
    "\n",
    "# creating a dataframe\n",
    "data = pd.DataFrame({'startdate': [pd.Timestamp('20181211'),\n",
    "\t\t\t\t\t\t\t\tpd.Timestamp('20180701')],\n",
    "\t\t\t\t\t'enddate': [pd.Timestamp('20190612'),\n",
    "\t\t\t\t\t\t\t\tpd.Timestamp('20190712')]})\n",
    "\n",
    "def time_delta_month(end, start):\n",
    "\treturn 12 * (end.dt.year - start.dt.year) \\\n",
    "\t\t+ (end.dt.month - start.dt.month)\n",
    "\n",
    "print(time_delta_month(data['enddate'], data['startdate']))\n"
   ]
  },
  {
   "cell_type": "code",
   "execution_count": null,
   "metadata": {},
   "outputs": [],
   "source": []
  }
 ],
 "metadata": {
  "kernelspec": {
   "display_name": "base",
   "language": "python",
   "name": "python3"
  },
  "language_info": {
   "codemirror_mode": {
    "name": "ipython",
    "version": 3
   },
   "file_extension": ".py",
   "mimetype": "text/x-python",
   "name": "python",
   "nbconvert_exporter": "python",
   "pygments_lexer": "ipython3",
   "version": "3.9.12"
  },
  "orig_nbformat": 4
 },
 "nbformat": 4,
 "nbformat_minor": 2
}
